{
 "cells": [
  {
   "cell_type": "code",
   "execution_count": null,
   "metadata": {},
   "outputs": [
    {
     "name": "stdout",
     "output_type": "stream",
     "text": [
      "The autoreload extension is already loaded. To reload it, use:\n",
      "  %reload_ext autoreload\n",
      "Setting up ONE API connection...\n"
     ]
    }
   ],
   "source": [
    "# IBL Brain-wide Map Dataset Download - FIXED VERSION\n",
    "%load_ext autoreload\n",
    "%autoreload 2\n",
    "\n",
    "import sys\n",
    "import os\n",
    "from one.api import ONE\n",
    "\n",
    "from pathlib import Path\n",
    "\n",
    "# Test connection first\n",
    "print(\"Setting up ONE API connection...\")\n",
    "try:\n",
    "    from one.api import ONE\n",
    "    \n",
    "    # Setup ONE API\n",
    "    ONE.setup(base_url='https://openalyx.internationalbrainlab.org', silent=True)\n",
    "    one_test = ONE(password='international', silent=True)\n",
    "    # Test a simple query to verify connection\n",
    "    from brainwidemap import bwm_query\n",
    "    df_test = bwm_query(one_test)\n",
    "    \n",
    "except Exception as e:\n",
    "    print(f\"Error setting up ONE API: {e}\")\n",
    "    print(\"Please check your internet connection and try again\")\n",
    "    raise\n",
    "\n",
    "# Import the main functions\n",
    "try:\n",
    "    from dmn_bwm import get_all_PETHs, stack_concat\n",
    "except Exception as e:\n",
    "    print(f\"Error importing dmn_bwm: {e}\")\n",
    "    raise\n",
    "\n",
    "print(\"\\n\" + \"=\"*50)\n",
    "print(\"STARTING DATA DOWNLOAD\")\n",
    "print(\"=\"*50)\n",
    "\n",
    "# Start with a smaller subset for testing (first 3 insertions)\n",
    "print(\"Testing with first 3 insertions...\")\n",
    "try:\n",
    "    # Get first 3 insertions for testing (reduced from 10 for faster testing)\n",
    "    df_subset = df_test.head(3)\n",
    "    eids_subset = df_subset[['eid', 'probe_name', 'pid']].values\n",
    "    \n",
    "    print(f\"About to process {len(eids_subset)} probe insertions:\")\n",
    "    for i, (eid, probe, pid) in enumerate(eids_subset):\n",
    "        print(f\"  {i+1}. EID: {eid}, Probe: {probe}, PID: {pid}\")\n",
    "    \n",
    "    get_all_PETHs(eids_plus=eids_subset, vers='concat')\n",
    "    \n",
    "    print(\"\\n\" + \"=\"*50)\n",
    "    print(\"TEST SUCCESSFUL! Ready for full download.\")\n",
    "    print(\"=\"*50)\n",
    "    print(\"To download all data, uncomment the line below and run:\")\n",
    "    print(\"# get_all_PETHs()  # This will download ALL ~700 probe insertions\")\n",
    "    print(\"WARNING: Full download will take hours and require significant disk space!\")\n",
    "    \n",
    "except Exception as e:\n",
    "    print(f\"Error during download: {e}\")\n",
    "    import traceback\n",
    "    traceback.print_exc()\n",
    "\n",
    "print(\"\\nTo proceed with concatenation after download, run:\")\n",
    "print(\"stack_concat(ephys=False)\")\n"
   ]
  },
  {
   "cell_type": "code",
   "execution_count": 7,
   "metadata": {},
   "outputs": [
    {
     "name": "stdout",
     "output_type": "stream",
     "text": [
      "combining 3 insertions for version concat\n",
      "Loading bwm_query results from fixtures/2023_12_bwm_release.csv\n",
      "3 insertions combined\n",
      "339 good cells stacked before ephys\n"
     ]
    },
    {
     "data": {
      "text/plain": [
       "(339, 2496)"
      ]
     },
     "execution_count": 7,
     "metadata": {},
     "output_type": "execute_result"
    }
   ],
   "source": [
    "cs = stack_concat(ephys=False,get_concat=True)\n",
    "cs.shape"
   ]
  },
  {
   "cell_type": "code",
   "execution_count": null,
   "metadata": {},
   "outputs": [],
   "source": []
  }
 ],
 "metadata": {
  "kernelspec": {
   "display_name": "iblenv",
   "language": "python",
   "name": "python3"
  },
  "language_info": {
   "codemirror_mode": {
    "name": "ipython",
    "version": 3
   },
   "file_extension": ".py",
   "mimetype": "text/x-python",
   "name": "python",
   "nbconvert_exporter": "python",
   "pygments_lexer": "ipython3",
   "version": "3.10.16"
  }
 },
 "nbformat": 4,
 "nbformat_minor": 2
}
